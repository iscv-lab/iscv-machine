{
 "cells": [
  {
   "attachments": {},
   "cell_type": "markdown",
   "metadata": {},
   "source": [
    "# Text to Speech"
   ]
  },
  {
   "attachments": {},
   "cell_type": "markdown",
   "metadata": {},
   "source": [
    "**1. Google Text to Speech (GTTS) - Run online**"
   ]
  },
  {
   "cell_type": "code",
   "execution_count": 2,
   "metadata": {},
   "outputs": [],
   "source": [
    "from gtts import gTTS\n",
    "import os\n",
    "\n",
    "mytext = \"Xin chào tôi là một sinh viên trường đại học Công nghệ Thông tin. Quốc tịch của tôi là Việt Nam.\"\n",
    "audio = gTTS(text=mytext, lang=\"vi\", slow=False)\n",
    "audio.save(\"textToSpeech_gtts.mp3\")"
   ]
  },
  {
   "attachments": {},
   "cell_type": "markdown",
   "metadata": {},
   "source": [
    "**2. Python Text to Speech 3 (PTTSX3) - Run offline**"
   ]
  },
  {
   "cell_type": "code",
   "execution_count": 1,
   "metadata": {},
   "outputs": [],
   "source": [
    "def get_voice(engine):\n",
    "    for voice in engine.getProperty('voices'):\n",
    "        # print(voice)\n",
    "        print(voice.id)"
   ]
  },
  {
   "cell_type": "code",
   "execution_count": 2,
   "metadata": {},
   "outputs": [
    {
     "ename": "",
     "evalue": "",
     "output_type": "error",
     "traceback": [
      "\u001b[1;31mCanceled future for execute_request message before replies were done"
     ]
    },
    {
     "ename": "",
     "evalue": "",
     "output_type": "error",
     "traceback": [
      "\u001b[1;31mThe Kernel crashed while executing code in the the current cell or a previous cell. Please review the code in the cell(s) to identify a possible cause of the failure. Click <a href='https://aka.ms/vscodeJupyterKernelCrash'>here</a> for more info. View Jupyter <a href='command:jupyter.viewOutput'>log</a> for further details."
     ]
    }
   ],
   "source": [
    "import pyttsx3\n",
    "engine = pyttsx3.init()\n",
    "get_voice(engine=engine)\n",
    "'''\n",
    "Phải cài thì mới có ngôn ngữ Việt Nam\n",
    "''' "
   ]
  },
  {
   "cell_type": "code",
   "execution_count": 62,
   "metadata": {},
   "outputs": [],
   "source": [
    "import speech_recognition as sr\n",
    "import pyttsx3\n",
    " \n",
    "void_id = 'HKEY_LOCAL_MACHINE\\SOFTWARE\\Microsoft\\Speech\\Voices\\Tokens\\MSTTS_V110_viVN_An'\n",
    "\n",
    "mytext = \"Xin chào tôi là một sinh viên trường đại học Công nghệ Thông tin. Quốc tịch của tôi là Việt Nam.\"\n",
    "\n",
    "engine = pyttsx3.init()\n",
    "engine.setProperty('voice', void_id)\n",
    "\n",
    "engine.save_to_file(text=mytext, filename=\"textToSpeech_pyttsx3.mp3\")\n",
    "engine.runAndWait()"
   ]
  },
  {
   "attachments": {},
   "cell_type": "markdown",
   "metadata": {},
   "source": [
    "# Speech to Text"
   ]
  },
  {
   "attachments": {},
   "cell_type": "markdown",
   "metadata": {},
   "source": [
    "**1. Google Speech Recognition (GSR) - Online**"
   ]
  },
  {
   "attachments": {},
   "cell_type": "markdown",
   "metadata": {},
   "source": [
    "Convert MP3 to WAV"
   ]
  },
  {
   "cell_type": "code",
   "execution_count": 63,
   "metadata": {},
   "outputs": [
    {
     "data": {
      "text/plain": [
       "0"
      ]
     },
     "execution_count": 63,
     "metadata": {},
     "output_type": "execute_result"
    }
   ],
   "source": [
    "\n",
    "# import required modules\n",
    "import subprocess\n",
    "\n",
    "src = \"textToSpeech_pyttsx3.mp3\"\n",
    "dst = \"testSpeechToText.wav\"  \n",
    "\n",
    "# convert mp3 to wav file\n",
    "subprocess.call(['ffmpeg', '-i', src, dst])"
   ]
  },
  {
   "cell_type": "code",
   "execution_count": 65,
   "metadata": {},
   "outputs": [
    {
     "ename": "FileNotFoundError",
     "evalue": "[Errno 2] No such file or directory: 'resultSpeechToText.wav'",
     "output_type": "error",
     "traceback": [
      "\u001b[1;31m---------------------------------------------------------------------------\u001b[0m",
      "\u001b[1;31mFileNotFoundError\u001b[0m                         Traceback (most recent call last)",
      "Cell \u001b[1;32mIn[65], line 8\u001b[0m\n\u001b[0;32m      5\u001b[0m r \u001b[39m=\u001b[39m sr\u001b[39m.\u001b[39mRecognizer()\n\u001b[0;32m      7\u001b[0m \u001b[39m# open the file\u001b[39;00m\n\u001b[1;32m----> 8\u001b[0m \u001b[39mwith\u001b[39;00m sr\u001b[39m.\u001b[39mAudioFile(filename) \u001b[39mas\u001b[39;00m source:\n\u001b[0;32m      9\u001b[0m     \u001b[39m# listen for the data (load audio to memory)\u001b[39;00m\n\u001b[0;32m     10\u001b[0m     audio_data \u001b[39m=\u001b[39m r\u001b[39m.\u001b[39mrecord(source)\n\u001b[0;32m     11\u001b[0m     \u001b[39m# recognize (convert from speech to text)\u001b[39;00m\n",
      "File \u001b[1;32m~\\AppData\\Roaming\\Python\\Python310\\site-packages\\speech_recognition\\__init__.py:253\u001b[0m, in \u001b[0;36mAudioFile.__enter__\u001b[1;34m(self)\u001b[0m\n\u001b[0;32m    250\u001b[0m \u001b[39massert\u001b[39;00m \u001b[39mself\u001b[39m\u001b[39m.\u001b[39mstream \u001b[39mis\u001b[39;00m \u001b[39mNone\u001b[39;00m, \u001b[39m\"\u001b[39m\u001b[39mThis audio source is already inside a context manager\u001b[39m\u001b[39m\"\u001b[39m\n\u001b[0;32m    251\u001b[0m \u001b[39mtry\u001b[39;00m:\n\u001b[0;32m    252\u001b[0m     \u001b[39m# attempt to read the file as WAV\u001b[39;00m\n\u001b[1;32m--> 253\u001b[0m     \u001b[39mself\u001b[39m\u001b[39m.\u001b[39maudio_reader \u001b[39m=\u001b[39m wave\u001b[39m.\u001b[39;49mopen(\u001b[39mself\u001b[39;49m\u001b[39m.\u001b[39;49mfilename_or_fileobject, \u001b[39m\"\u001b[39;49m\u001b[39mrb\u001b[39;49m\u001b[39m\"\u001b[39;49m)\n\u001b[0;32m    254\u001b[0m     \u001b[39mself\u001b[39m\u001b[39m.\u001b[39mlittle_endian \u001b[39m=\u001b[39m \u001b[39mTrue\u001b[39;00m  \u001b[39m# RIFF WAV is a little-endian format (most ``audioop`` operations assume that the frames are stored in little-endian form)\u001b[39;00m\n\u001b[0;32m    255\u001b[0m \u001b[39mexcept\u001b[39;00m (wave\u001b[39m.\u001b[39mError, \u001b[39mEOFError\u001b[39;00m):\n",
      "File \u001b[1;32md:\\SOFTWARE\\Python\\lib\\wave.py:509\u001b[0m, in \u001b[0;36mopen\u001b[1;34m(f, mode)\u001b[0m\n\u001b[0;32m    507\u001b[0m         mode \u001b[39m=\u001b[39m \u001b[39m'\u001b[39m\u001b[39mrb\u001b[39m\u001b[39m'\u001b[39m\n\u001b[0;32m    508\u001b[0m \u001b[39mif\u001b[39;00m mode \u001b[39min\u001b[39;00m (\u001b[39m'\u001b[39m\u001b[39mr\u001b[39m\u001b[39m'\u001b[39m, \u001b[39m'\u001b[39m\u001b[39mrb\u001b[39m\u001b[39m'\u001b[39m):\n\u001b[1;32m--> 509\u001b[0m     \u001b[39mreturn\u001b[39;00m Wave_read(f)\n\u001b[0;32m    510\u001b[0m \u001b[39melif\u001b[39;00m mode \u001b[39min\u001b[39;00m (\u001b[39m'\u001b[39m\u001b[39mw\u001b[39m\u001b[39m'\u001b[39m, \u001b[39m'\u001b[39m\u001b[39mwb\u001b[39m\u001b[39m'\u001b[39m):\n\u001b[0;32m    511\u001b[0m     \u001b[39mreturn\u001b[39;00m Wave_write(f)\n",
      "File \u001b[1;32md:\\SOFTWARE\\Python\\lib\\wave.py:159\u001b[0m, in \u001b[0;36mWave_read.__init__\u001b[1;34m(self, f)\u001b[0m\n\u001b[0;32m    157\u001b[0m \u001b[39mself\u001b[39m\u001b[39m.\u001b[39m_i_opened_the_file \u001b[39m=\u001b[39m \u001b[39mNone\u001b[39;00m\n\u001b[0;32m    158\u001b[0m \u001b[39mif\u001b[39;00m \u001b[39misinstance\u001b[39m(f, \u001b[39mstr\u001b[39m):\n\u001b[1;32m--> 159\u001b[0m     f \u001b[39m=\u001b[39m builtins\u001b[39m.\u001b[39;49mopen(f, \u001b[39m'\u001b[39;49m\u001b[39mrb\u001b[39;49m\u001b[39m'\u001b[39;49m)\n\u001b[0;32m    160\u001b[0m     \u001b[39mself\u001b[39m\u001b[39m.\u001b[39m_i_opened_the_file \u001b[39m=\u001b[39m f\n\u001b[0;32m    161\u001b[0m \u001b[39m# else, assume it is an open file object already\u001b[39;00m\n",
      "\u001b[1;31mFileNotFoundError\u001b[0m: [Errno 2] No such file or directory: 'resultSpeechToText.wav'"
     ]
    }
   ],
   "source": [
    "import speech_recognition as sr\n",
    "import json\n",
    "\n",
    "filename = \"testSpeechToText.wav\"\n",
    "r = sr.Recognizer()\n",
    "\n",
    "# open the file\n",
    "with sr.AudioFile(filename) as source:\n",
    "    # listen for the data (load audio to memory)\n",
    "    audio_data = r.record(source)\n",
    "    # recognize (convert from speech to text)\n",
    "    text = r.recognize_google(audio_data, language=\"vi-VN\")\n",
    "    print(text)\n",
    "    print(type(text))"
   ]
  },
  {
   "cell_type": "code",
   "execution_count": 1,
   "metadata": {},
   "outputs": [
    {
     "data": {
      "text/html": [
       "\n",
       "                <audio  controls=\"controls\" >\n",
       "                    <source src=\"data:audio/mpeg;base64,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\" type=\"audio/mpeg\" />\n",
       "                    Your browser does not support the audio element.\n",
       "                </audio>\n",
       "              "
      ],
      "text/plain": [
       "<IPython.lib.display.Audio object>"
      ]
     },
     "execution_count": 1,
     "metadata": {},
     "output_type": "execute_result"
    }
   ],
   "source": [
    "from gtts import gTTS\n",
    "from IPython.display import Audio\n",
    "\n",
    "text = \"Đây là một ví dụ văn bản tiếng Việt.\"\n",
    "\n",
    "# Tạo đối tượng gTTS từ văn bản\n",
    "tts = gTTS(text=text, lang='vi')\n",
    "\n",
    "# Lưu file audio\n",
    "file_path = 'output.mp3'\n",
    "tts.save(file_path)\n",
    "\n",
    "# Phát file audio trong Jupyter Notebook\n",
    "Audio(file_path)"
   ]
  },
  {
   "cell_type": "code",
   "execution_count": 6,
   "metadata": {},
   "outputs": [
    {
     "ename": "ValueError",
     "evalue": "Audio file could not be read as PCM WAV, AIFF/AIFF-C, or Native FLAC; check if file is corrupted or in another format",
     "output_type": "error",
     "traceback": [
      "\u001b[0;31m---------------------------------------------------------------------------\u001b[0m",
      "\u001b[0;31mError\u001b[0m                                     Traceback (most recent call last)",
      "File \u001b[0;32m~/miniforge3/envs/env_tf/lib/python3.10/site-packages/speech_recognition/__init__.py:241\u001b[0m, in \u001b[0;36mAudioFile.__enter__\u001b[0;34m(self)\u001b[0m\n\u001b[1;32m    239\u001b[0m \u001b[39mtry\u001b[39;00m:\n\u001b[1;32m    240\u001b[0m     \u001b[39m# attempt to read the file as WAV\u001b[39;00m\n\u001b[0;32m--> 241\u001b[0m     \u001b[39mself\u001b[39m\u001b[39m.\u001b[39maudio_reader \u001b[39m=\u001b[39m wave\u001b[39m.\u001b[39;49mopen(\u001b[39mself\u001b[39;49m\u001b[39m.\u001b[39;49mfilename_or_fileobject, \u001b[39m\"\u001b[39;49m\u001b[39mrb\u001b[39;49m\u001b[39m\"\u001b[39;49m)\n\u001b[1;32m    242\u001b[0m     \u001b[39mself\u001b[39m\u001b[39m.\u001b[39mlittle_endian \u001b[39m=\u001b[39m \u001b[39mTrue\u001b[39;00m  \u001b[39m# RIFF WAV is a little-endian format (most ``audioop`` operations assume that the frames are stored in little-endian form)\u001b[39;00m\n",
      "File \u001b[0;32m~/miniforge3/envs/env_tf/lib/python3.10/wave.py:509\u001b[0m, in \u001b[0;36mopen\u001b[0;34m(f, mode)\u001b[0m\n\u001b[1;32m    508\u001b[0m \u001b[39mif\u001b[39;00m mode \u001b[39min\u001b[39;00m (\u001b[39m'\u001b[39m\u001b[39mr\u001b[39m\u001b[39m'\u001b[39m, \u001b[39m'\u001b[39m\u001b[39mrb\u001b[39m\u001b[39m'\u001b[39m):\n\u001b[0;32m--> 509\u001b[0m     \u001b[39mreturn\u001b[39;00m Wave_read(f)\n\u001b[1;32m    510\u001b[0m \u001b[39melif\u001b[39;00m mode \u001b[39min\u001b[39;00m (\u001b[39m'\u001b[39m\u001b[39mw\u001b[39m\u001b[39m'\u001b[39m, \u001b[39m'\u001b[39m\u001b[39mwb\u001b[39m\u001b[39m'\u001b[39m):\n",
      "File \u001b[0;32m~/miniforge3/envs/env_tf/lib/python3.10/wave.py:163\u001b[0m, in \u001b[0;36mWave_read.__init__\u001b[0;34m(self, f)\u001b[0m\n\u001b[1;32m    162\u001b[0m \u001b[39mtry\u001b[39;00m:\n\u001b[0;32m--> 163\u001b[0m     \u001b[39mself\u001b[39;49m\u001b[39m.\u001b[39;49minitfp(f)\n\u001b[1;32m    164\u001b[0m \u001b[39mexcept\u001b[39;00m:\n",
      "File \u001b[0;32m~/miniforge3/envs/env_tf/lib/python3.10/wave.py:130\u001b[0m, in \u001b[0;36mWave_read.initfp\u001b[0;34m(self, file)\u001b[0m\n\u001b[1;32m    129\u001b[0m \u001b[39mif\u001b[39;00m \u001b[39mself\u001b[39m\u001b[39m.\u001b[39m_file\u001b[39m.\u001b[39mgetname() \u001b[39m!=\u001b[39m \u001b[39mb\u001b[39m\u001b[39m'\u001b[39m\u001b[39mRIFF\u001b[39m\u001b[39m'\u001b[39m:\n\u001b[0;32m--> 130\u001b[0m     \u001b[39mraise\u001b[39;00m Error(\u001b[39m'\u001b[39m\u001b[39mfile does not start with RIFF id\u001b[39m\u001b[39m'\u001b[39m)\n\u001b[1;32m    131\u001b[0m \u001b[39mif\u001b[39;00m \u001b[39mself\u001b[39m\u001b[39m.\u001b[39m_file\u001b[39m.\u001b[39mread(\u001b[39m4\u001b[39m) \u001b[39m!=\u001b[39m \u001b[39mb\u001b[39m\u001b[39m'\u001b[39m\u001b[39mWAVE\u001b[39m\u001b[39m'\u001b[39m:\n",
      "\u001b[0;31mError\u001b[0m: file does not start with RIFF id",
      "\nDuring handling of the above exception, another exception occurred:\n",
      "\u001b[0;31mError\u001b[0m                                     Traceback (most recent call last)",
      "File \u001b[0;32m~/miniforge3/envs/env_tf/lib/python3.10/site-packages/speech_recognition/__init__.py:246\u001b[0m, in \u001b[0;36mAudioFile.__enter__\u001b[0;34m(self)\u001b[0m\n\u001b[1;32m    244\u001b[0m \u001b[39mtry\u001b[39;00m:\n\u001b[1;32m    245\u001b[0m     \u001b[39m# attempt to read the file as AIFF\u001b[39;00m\n\u001b[0;32m--> 246\u001b[0m     \u001b[39mself\u001b[39m\u001b[39m.\u001b[39maudio_reader \u001b[39m=\u001b[39m aifc\u001b[39m.\u001b[39;49mopen(\u001b[39mself\u001b[39;49m\u001b[39m.\u001b[39;49mfilename_or_fileobject, \u001b[39m\"\u001b[39;49m\u001b[39mrb\u001b[39;49m\u001b[39m\"\u001b[39;49m)\n\u001b[1;32m    247\u001b[0m     \u001b[39mself\u001b[39m\u001b[39m.\u001b[39mlittle_endian \u001b[39m=\u001b[39m \u001b[39mFalse\u001b[39;00m  \u001b[39m# AIFF is a big-endian format\u001b[39;00m\n",
      "File \u001b[0;32m~/miniforge3/envs/env_tf/lib/python3.10/aifc.py:917\u001b[0m, in \u001b[0;36mopen\u001b[0;34m(f, mode)\u001b[0m\n\u001b[1;32m    916\u001b[0m \u001b[39mif\u001b[39;00m mode \u001b[39min\u001b[39;00m (\u001b[39m'\u001b[39m\u001b[39mr\u001b[39m\u001b[39m'\u001b[39m, \u001b[39m'\u001b[39m\u001b[39mrb\u001b[39m\u001b[39m'\u001b[39m):\n\u001b[0;32m--> 917\u001b[0m     \u001b[39mreturn\u001b[39;00m Aifc_read(f)\n\u001b[1;32m    918\u001b[0m \u001b[39melif\u001b[39;00m mode \u001b[39min\u001b[39;00m (\u001b[39m'\u001b[39m\u001b[39mw\u001b[39m\u001b[39m'\u001b[39m, \u001b[39m'\u001b[39m\u001b[39mwb\u001b[39m\u001b[39m'\u001b[39m):\n",
      "File \u001b[0;32m~/miniforge3/envs/env_tf/lib/python3.10/aifc.py:352\u001b[0m, in \u001b[0;36mAifc_read.__init__\u001b[0;34m(self, f)\u001b[0m\n\u001b[1;32m    351\u001b[0m \u001b[39mtry\u001b[39;00m:\n\u001b[0;32m--> 352\u001b[0m     \u001b[39mself\u001b[39;49m\u001b[39m.\u001b[39;49minitfp(file_object)\n\u001b[1;32m    353\u001b[0m \u001b[39mexcept\u001b[39;00m:\n",
      "File \u001b[0;32m~/miniforge3/envs/env_tf/lib/python3.10/aifc.py:316\u001b[0m, in \u001b[0;36mAifc_read.initfp\u001b[0;34m(self, file)\u001b[0m\n\u001b[1;32m    315\u001b[0m \u001b[39mif\u001b[39;00m chunk\u001b[39m.\u001b[39mgetname() \u001b[39m!=\u001b[39m \u001b[39mb\u001b[39m\u001b[39m'\u001b[39m\u001b[39mFORM\u001b[39m\u001b[39m'\u001b[39m:\n\u001b[0;32m--> 316\u001b[0m     \u001b[39mraise\u001b[39;00m Error(\u001b[39m'\u001b[39m\u001b[39mfile does not start with FORM id\u001b[39m\u001b[39m'\u001b[39m)\n\u001b[1;32m    317\u001b[0m formdata \u001b[39m=\u001b[39m chunk\u001b[39m.\u001b[39mread(\u001b[39m4\u001b[39m)\n",
      "\u001b[0;31mError\u001b[0m: file does not start with FORM id",
      "\nDuring handling of the above exception, another exception occurred:\n",
      "\u001b[0;31mEOFError\u001b[0m                                  Traceback (most recent call last)",
      "File \u001b[0;32m~/miniforge3/envs/env_tf/lib/python3.10/site-packages/speech_recognition/__init__.py:272\u001b[0m, in \u001b[0;36mAudioFile.__enter__\u001b[0;34m(self)\u001b[0m\n\u001b[1;32m    271\u001b[0m \u001b[39mtry\u001b[39;00m:\n\u001b[0;32m--> 272\u001b[0m     \u001b[39mself\u001b[39m\u001b[39m.\u001b[39maudio_reader \u001b[39m=\u001b[39m aifc\u001b[39m.\u001b[39;49mopen(aiff_file, \u001b[39m\"\u001b[39;49m\u001b[39mrb\u001b[39;49m\u001b[39m\"\u001b[39;49m)\n\u001b[1;32m    273\u001b[0m \u001b[39mexcept\u001b[39;00m (aifc\u001b[39m.\u001b[39mError, \u001b[39mEOFError\u001b[39;00m):\n",
      "File \u001b[0;32m~/miniforge3/envs/env_tf/lib/python3.10/aifc.py:917\u001b[0m, in \u001b[0;36mopen\u001b[0;34m(f, mode)\u001b[0m\n\u001b[1;32m    916\u001b[0m \u001b[39mif\u001b[39;00m mode \u001b[39min\u001b[39;00m (\u001b[39m'\u001b[39m\u001b[39mr\u001b[39m\u001b[39m'\u001b[39m, \u001b[39m'\u001b[39m\u001b[39mrb\u001b[39m\u001b[39m'\u001b[39m):\n\u001b[0;32m--> 917\u001b[0m     \u001b[39mreturn\u001b[39;00m Aifc_read(f)\n\u001b[1;32m    918\u001b[0m \u001b[39melif\u001b[39;00m mode \u001b[39min\u001b[39;00m (\u001b[39m'\u001b[39m\u001b[39mw\u001b[39m\u001b[39m'\u001b[39m, \u001b[39m'\u001b[39m\u001b[39mwb\u001b[39m\u001b[39m'\u001b[39m):\n",
      "File \u001b[0;32m~/miniforge3/envs/env_tf/lib/python3.10/aifc.py:358\u001b[0m, in \u001b[0;36mAifc_read.__init__\u001b[0;34m(self, f)\u001b[0m\n\u001b[1;32m    356\u001b[0m \u001b[39melse\u001b[39;00m:\n\u001b[1;32m    357\u001b[0m     \u001b[39m# assume it is an open file object already\u001b[39;00m\n\u001b[0;32m--> 358\u001b[0m     \u001b[39mself\u001b[39;49m\u001b[39m.\u001b[39;49minitfp(f)\n",
      "File \u001b[0;32m~/miniforge3/envs/env_tf/lib/python3.10/aifc.py:314\u001b[0m, in \u001b[0;36mAifc_read.initfp\u001b[0;34m(self, file)\u001b[0m\n\u001b[1;32m    313\u001b[0m \u001b[39mself\u001b[39m\u001b[39m.\u001b[39m_file \u001b[39m=\u001b[39m file\n\u001b[0;32m--> 314\u001b[0m chunk \u001b[39m=\u001b[39m Chunk(file)\n\u001b[1;32m    315\u001b[0m \u001b[39mif\u001b[39;00m chunk\u001b[39m.\u001b[39mgetname() \u001b[39m!=\u001b[39m \u001b[39mb\u001b[39m\u001b[39m'\u001b[39m\u001b[39mFORM\u001b[39m\u001b[39m'\u001b[39m:\n",
      "File \u001b[0;32m~/miniforge3/envs/env_tf/lib/python3.10/chunk.py:63\u001b[0m, in \u001b[0;36mChunk.__init__\u001b[0;34m(self, file, align, bigendian, inclheader)\u001b[0m\n\u001b[1;32m     62\u001b[0m \u001b[39mif\u001b[39;00m \u001b[39mlen\u001b[39m(\u001b[39mself\u001b[39m\u001b[39m.\u001b[39mchunkname) \u001b[39m<\u001b[39m \u001b[39m4\u001b[39m:\n\u001b[0;32m---> 63\u001b[0m     \u001b[39mraise\u001b[39;00m \u001b[39mEOFError\u001b[39;00m\n\u001b[1;32m     64\u001b[0m \u001b[39mtry\u001b[39;00m:\n",
      "\u001b[0;31mEOFError\u001b[0m: ",
      "\nDuring handling of the above exception, another exception occurred:\n",
      "\u001b[0;31mValueError\u001b[0m                                Traceback (most recent call last)",
      "Cell \u001b[0;32mIn[6], line 26\u001b[0m\n\u001b[1;32m     23\u001b[0m output_file \u001b[39m=\u001b[39m \u001b[39m\"\u001b[39m\u001b[39m/Users/khanhle/Documents/work/iscv/interview/output.mp3\u001b[39m\u001b[39m\"\u001b[39m\n\u001b[1;32m     25\u001b[0m \u001b[39m# Chuyển đổi văn bản thành giọng nói và lưu file audio\u001b[39;00m\n\u001b[0;32m---> 26\u001b[0m text_to_speech(text, output_file)\n",
      "Cell \u001b[0;32mIn[6], line 10\u001b[0m, in \u001b[0;36mtext_to_speech\u001b[0;34m(text, output_file)\u001b[0m\n\u001b[1;32m      7\u001b[0m r \u001b[39m=\u001b[39m sr\u001b[39m.\u001b[39mRecognizer()\n\u001b[1;32m      9\u001b[0m \u001b[39m# Chuyển đổi văn bản thành giọng nói\u001b[39;00m\n\u001b[0;32m---> 10\u001b[0m \u001b[39mwith\u001b[39;00m sr\u001b[39m.\u001b[39mAudioFile(output_file) \u001b[39mas\u001b[39;00m source:\n\u001b[1;32m     11\u001b[0m     audio \u001b[39m=\u001b[39m r\u001b[39m.\u001b[39mrecord(sr\u001b[39m.\u001b[39mTTS(text, lang\u001b[39m=\u001b[39m\u001b[39m'\u001b[39m\u001b[39mvi\u001b[39m\u001b[39m'\u001b[39m))\n\u001b[1;32m     13\u001b[0m \u001b[39m# Lưu file audio\u001b[39;00m\n",
      "File \u001b[0;32m~/miniforge3/envs/env_tf/lib/python3.10/site-packages/speech_recognition/__init__.py:274\u001b[0m, in \u001b[0;36mAudioFile.__enter__\u001b[0;34m(self)\u001b[0m\n\u001b[1;32m    272\u001b[0m             \u001b[39mself\u001b[39m\u001b[39m.\u001b[39maudio_reader \u001b[39m=\u001b[39m aifc\u001b[39m.\u001b[39mopen(aiff_file, \u001b[39m\"\u001b[39m\u001b[39mrb\u001b[39m\u001b[39m\"\u001b[39m)\n\u001b[1;32m    273\u001b[0m         \u001b[39mexcept\u001b[39;00m (aifc\u001b[39m.\u001b[39mError, \u001b[39mEOFError\u001b[39;00m):\n\u001b[0;32m--> 274\u001b[0m             \u001b[39mraise\u001b[39;00m \u001b[39mValueError\u001b[39;00m(\u001b[39m\"\u001b[39m\u001b[39mAudio file could not be read as PCM WAV, AIFF/AIFF-C, or Native FLAC; check if file is corrupted or in another format\u001b[39m\u001b[39m\"\u001b[39m)\n\u001b[1;32m    275\u001b[0m         \u001b[39mself\u001b[39m\u001b[39m.\u001b[39mlittle_endian \u001b[39m=\u001b[39m \u001b[39mFalse\u001b[39;00m  \u001b[39m# AIFF is a big-endian format\u001b[39;00m\n\u001b[1;32m    276\u001b[0m \u001b[39massert\u001b[39;00m \u001b[39m1\u001b[39m \u001b[39m<\u001b[39m\u001b[39m=\u001b[39m \u001b[39mself\u001b[39m\u001b[39m.\u001b[39maudio_reader\u001b[39m.\u001b[39mgetnchannels() \u001b[39m<\u001b[39m\u001b[39m=\u001b[39m \u001b[39m2\u001b[39m, \u001b[39m\"\u001b[39m\u001b[39mAudio must be mono or stereo\u001b[39m\u001b[39m\"\u001b[39m\n",
      "\u001b[0;31mValueError\u001b[0m: Audio file could not be read as PCM WAV, AIFF/AIFF-C, or Native FLAC; check if file is corrupted or in another format"
     ]
    }
   ],
   "source": [
    "import speech_recognition as sr\n",
    "from pydub import AudioSegment\n",
    "from pydub.playback import play\n",
    "\n",
    "def text_to_speech(text, output_file):\n",
    "    # Khởi tạo đối tượng Recognizer\n",
    "    r = sr.Recognizer()\n",
    "\n",
    "    # Chuyển đổi văn bản thành giọng nói\n",
    "    with sr.AudioFile(output_file) as source:\n",
    "        audio = r.record(sr.TTS(text, lang='vi'))\n",
    "\n",
    "    # Lưu file audio\n",
    "    audio.export(output_file, format=\"mp3\")\n",
    "\n",
    "    # Phát file audio\n",
    "    play(audio)\n",
    "\n",
    "# Văn bản bạn muốn chuyển thành giọng nói\n",
    "text = \"Đây là một ví dụ văn bản tiếng Việt.\"\n",
    "\n",
    "# Tên file audio đầu ra\n",
    "output_file = \"/Users/khanhle/Documents/work/iscv/interview/output.mp3\"\n",
    "\n",
    "# Chuyển đổi văn bản thành giọng nói và lưu file audio\n",
    "text_to_speech(text, output_file)\n"
   ]
  },
  {
   "cell_type": "code",
   "execution_count": null,
   "metadata": {},
   "outputs": [],
   "source": [
    "import pyttsx3\n",
    "\n",
    "def text_to_speech(text, output_file):\n",
    "    engine = pyttsx3.init()\n",
    "    engine.save_to_file(text, output_file)\n",
    "    engine.runAndWait()\n",
    "\n",
    "text = \"Xin chào! Tôi là ChatGPT, một mô hình ngôn ngữ trí tuệ nhân tạo.\"\n",
    "output_file = \"output.mp3\"\n",
    "\n",
    "text_to_speech(text, output_file)\n"
   ]
  },
  {
   "cell_type": "code",
   "execution_count": 1,
   "metadata": {},
   "outputs": [
    {
     "ename": "",
     "evalue": "",
     "output_type": "error",
     "traceback": [
      "\u001b[1;31mCanceled future for execute_request message before replies were done"
     ]
    },
    {
     "ename": "",
     "evalue": "",
     "output_type": "error",
     "traceback": [
      "\u001b[1;31mThe Kernel crashed while executing code in the the current cell or a previous cell. Please review the code in the cell(s) to identify a possible cause of the failure. Click <a href='https://aka.ms/vscodeJupyterKernelCrash'>here</a> for more info. View Jupyter <a href='command:jupyter.viewOutput'>log</a> for further details."
     ]
    }
   ],
   "source": [
    "import pyttsx3\n",
    "engine = pyttsx3.init()\n",
    "engine.say(\"I will speak this text\")\n",
    "engine.runAndWait()"
   ]
  },
  {
   "cell_type": "code",
   "execution_count": 15,
   "metadata": {},
   "outputs": [
    {
     "name": "stdout",
     "output_type": "stream",
     "text": [
      "Đã lưu file âm thanh: output.mp3\n"
     ]
    }
   ],
   "source": [
    "import os\n",
    "from google.cloud import texttospeech\n",
    "\n",
    "# Đường dẫn đến tệp keyfile.json\n",
    "os.environ[\"GOOGLE_APPLICATION_CREDENTIALS\"] = \"/Users/khanhle/Documents/work/iscv/interview/iscv.json\"\n",
    "\n",
    "def text_to_speech(text, output_file):\n",
    "    client = texttospeech.TextToSpeechClient()\n",
    "\n",
    "    synthesis_input = texttospeech.SynthesisInput(text=text)\n",
    "\n",
    "    voice = texttospeech.VoiceSelectionParams(\n",
    "        language_code=\"vi-VN\", ssml_gender=texttospeech.SsmlVoiceGender.FEMALE\n",
    "    )\n",
    "\n",
    "    audio_config = texttospeech.AudioConfig(\n",
    "        audio_encoding=texttospeech.AudioEncoding.MP3\n",
    "    )\n",
    "\n",
    "    response = client.synthesize_speech(\n",
    "        input=synthesis_input, voice=voice, audio_config=audio_config\n",
    "    )\n",
    "\n",
    "    with open(output_file, \"wb\") as out:\n",
    "        out.write(response.audio_content)\n",
    "        print(f\"Đã lưu file âm thanh: {output_file}\")\n",
    "\n",
    "text = \"Xin chào! Tôi là ChatGPT, một mô hình ngôn ngữ trí tuệ nhân tạo.\"\n",
    "output_file = \"output.mp3\"\n",
    "\n",
    "text_to_speech(text, output_file)\n"
   ]
  },
  {
   "cell_type": "code",
   "execution_count": 18,
   "metadata": {},
   "outputs": [
    {
     "name": "stdout",
     "output_type": "stream",
     "text": [
      "Transcribed text:\n",
      "Xin chào tôi là cha tdtt một mô hình ngôn ngữ trí tuệ nhân tạo\n"
     ]
    }
   ],
   "source": [
    "import os\n",
    "from google.cloud import speech_v1p1beta1 as speech\n",
    "\n",
    "os.environ[\"GOOGLE_APPLICATION_CREDENTIALS\"] = \"/Users/khanhle/Documents/work/iscv/interview/iscv.json\"\n",
    "\n",
    "def transcribe_speech(audio_file):\n",
    "    client = speech.SpeechClient()\n",
    "\n",
    "    # Load the audio file\n",
    "    with open(audio_file, \"rb\") as audio_file:\n",
    "        content = audio_file.read()\n",
    "\n",
    "    audio = speech.RecognitionAudio(content=content)\n",
    "\n",
    "    config = speech.RecognitionConfig(\n",
    "        encoding=speech.RecognitionConfig.AudioEncoding.MP3,\n",
    "        sample_rate_hertz=16000,  # Update with the correct sample rate of your audio\n",
    "        language_code=\"vi-VN\"  # Update with the correct language code for Vietnamese\n",
    "    )\n",
    "\n",
    "    response = client.recognize(config=config, audio=audio)\n",
    "\n",
    "    # Extract and return the recognized text\n",
    "    if len(response.results) > 0:\n",
    "        return response.results[0].alternatives[0].transcript\n",
    "    else:\n",
    "        return \"\"\n",
    "\n",
    "# Specify the path to your output.mp3 file\n",
    "audio_file_path = \"output.mp3\"\n",
    "\n",
    "# Transcribe the speech to text\n",
    "transcribed_text = transcribe_speech(audio_file_path)\n",
    "\n",
    "# Print the transcribed text\n",
    "print(\"Transcribed text:\")\n",
    "print(transcribed_text)\n"
   ]
  }
 ],
 "metadata": {
  "kernelspec": {
   "display_name": "Python 3",
   "language": "python",
   "name": "python3"
  },
  "language_info": {
   "codemirror_mode": {
    "name": "ipython",
    "version": 3
   },
   "file_extension": ".py",
   "mimetype": "text/x-python",
   "name": "python",
   "nbconvert_exporter": "python",
   "pygments_lexer": "ipython3",
   "version": "3.10.10"
  },
  "orig_nbformat": 4
 },
 "nbformat": 4,
 "nbformat_minor": 2
}
